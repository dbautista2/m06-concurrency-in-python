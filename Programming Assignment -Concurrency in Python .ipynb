{
 "cells": [
  {
   "cell_type": "code",
   "execution_count": 7,
   "id": "4878abb6",
   "metadata": {},
   "outputs": [
    {
     "name": "stdout",
     "output_type": "stream",
     "text": [
      "2023-12-03\n",
      "\n"
     ]
    },
    {
     "ename": "NameError",
     "evalue": "name 'datetime' is not defined",
     "output_type": "error",
     "traceback": [
      "\u001b[1;31m---------------------------------------------------------------------------\u001b[0m",
      "\u001b[1;31mNameError\u001b[0m                                 Traceback (most recent call last)",
      "Cell \u001b[1;32mIn[7], line 10\u001b[0m\n\u001b[0;32m      8\u001b[0m \u001b[38;5;28mprint\u001b[39m(today_string)\n\u001b[0;32m      9\u001b[0m fmt \u001b[38;5;241m=\u001b[39m \u001b[38;5;124m'\u001b[39m\u001b[38;5;124m%\u001b[39m\u001b[38;5;124mY-\u001b[39m\u001b[38;5;124m%\u001b[39m\u001b[38;5;124mm-\u001b[39m\u001b[38;5;132;01m%d\u001b[39;00m\u001b[38;5;130;01m\\n\u001b[39;00m\u001b[38;5;124m'\u001b[39m\n\u001b[1;32m---> 10\u001b[0m datetime\u001b[38;5;241m.\u001b[39mstrptime(today_string, fmt)\n",
      "\u001b[1;31mNameError\u001b[0m: name 'datetime' is not defined"
     ]
    }
   ],
   "source": [
    "#13.1\n",
    "from datetime import date\n",
    "now = date.today()\n",
    "now_str = now.isoformat()\n",
    "\n",
    "#13.2\n",
    "with open('today.txt', 'wt') as output:\n",
    "    print(now_str, file=output)\n",
    "with open('today.txt', 'rt') as input:\n",
    "    today_string = input.read()\n",
    "print(today_string)\n",
    "\n",
    "#13.3\n",
    "fmt = '%Y-%m-%d\\n'\n",
    "datetime.strptime(today_string, fmt)"
   ]
  },
  {
   "cell_type": "code",
   "execution_count": 12,
   "id": "6c00511f",
   "metadata": {},
   "outputs": [
    {
     "ename": "SyntaxError",
     "evalue": "invalid syntax. Perhaps you forgot a comma? (36511564.py, line 16)",
     "output_type": "error",
     "traceback": [
      "\u001b[1;36m  Cell \u001b[1;32mIn[12], line 16\u001b[1;36m\u001b[0m\n\u001b[1;33m    print(python multi_times.py)\u001b[0m\n\u001b[1;37m          ^\u001b[0m\n\u001b[1;31mSyntaxError\u001b[0m\u001b[1;31m:\u001b[0m invalid syntax. Perhaps you forgot a comma?\n"
     ]
    }
   ],
   "source": [
    "import multiprocessing\n",
    "\n",
    "def now(seconds):\n",
    "    from datetime import datetime\n",
    "    from time import sleep\n",
    "    sleep(seconds)\n",
    "    print('wait', seconds, 'seconds, time is', datetime.utcnow())\n",
    "\n",
    "if __name__ == '__main__':\n",
    "    import random\n",
    "    for n in range(3):\n",
    "        seconds = random.random()\n",
    "        proc = multiprocessing.Process(target=now, args=(seconds,))\n",
    "        proc.start()\n",
    "\n"
   ]
  },
  {
   "cell_type": "code",
   "execution_count": null,
   "id": "6341cc35",
   "metadata": {},
   "outputs": [],
   "source": []
  }
 ],
 "metadata": {
  "kernelspec": {
   "display_name": "Python 3 (ipykernel)",
   "language": "python",
   "name": "python3"
  },
  "language_info": {
   "codemirror_mode": {
    "name": "ipython",
    "version": 3
   },
   "file_extension": ".py",
   "mimetype": "text/x-python",
   "name": "python",
   "nbconvert_exporter": "python",
   "pygments_lexer": "ipython3",
   "version": "3.11.5"
  }
 },
 "nbformat": 4,
 "nbformat_minor": 5
}
